{
 "cells": [
  {
   "cell_type": "markdown",
   "metadata": {},
   "source": [
    "Misc blocks of code to write out odds-and-ends linux commands for HPC"
   ]
  },
  {
   "cell_type": "code",
   "execution_count": null,
   "metadata": {},
   "outputs": [],
   "source": [
    "import pandas as pd\n",
    "import numpy as np\n"
   ]
  },
  {
   "cell_type": "code",
   "execution_count": null,
   "metadata": {},
   "outputs": [],
   "source": [
    "google_root = \"Q:\"\n",
    "data_path = r\"\\Shared drives\\Pandemic Data\"\n",
    "model_name = \"slf_model\"\n",
    "run_name = \"slf_grid_broad\" # folder of your grid search \n",
    "total_runs = 80 # Count of runs expected (this is only needed if you had variable #'s of runs - ie. from two rounds of parameter sampling)\n",
    "\n",
    "data_dir = f\"{google_root}{data_path}\\{model_name}\""
   ]
  },
  {
   "cell_type": "code",
   "execution_count": null,
   "metadata": {},
   "outputs": [],
   "source": [
    "stats_dir = f\"{data_dir}/outputs/summary_stats/{run_name}\""
   ]
  },
  {
   "cell_type": "code",
   "execution_count": null,
   "metadata": {},
   "outputs": [],
   "source": [
    "stats = pd.read_csv(f\"{stats_dir}/summary_stats_wPrecisionRecallF1FBetaAggProb.csv\")\n",
    "# Only needed if you have variable numbers of runs (to get the set you are looking for...)\n",
    "\n",
    "stats = stats.groupby(\"sample\").filter(lambda x: len(x) == total_runs)\n",
    "agg_dict = {\n",
    "    \"start\":[\"max\"],\n",
    "    \"alpha\":[\"max\"],\n",
    "    \"lamda\": [\"max\"],\n",
    "    \"count_known_countries_time_window_fbeta\": [\"mean\",\"std\"]\n",
    "}\n",
    "\n",
    "agg_dict = {**agg_dict}\n",
    "\n",
    "agg_df = stats.groupby(\"sample\").agg(agg_dict)\n",
    "\n",
    "agg_df.columns = [\"_\".join(x) for x in agg_df.columns.values]\n",
    "agg_df = agg_df.rename(columns={\"start_max\":\"start\",\"alpha_max\":\"alpha\",\"lamda_max\":\"lamda\",\"count_known_countries_time_window_fbeta_mean\":\"fbeta\"})\n",
    "agg_df['st_err']=agg_df['count_known_countries_time_window_fbeta_std']/np.sqrt(50)"
   ]
  },
  {
   "cell_type": "code",
   "execution_count": null,
   "metadata": {},
   "outputs": [],
   "source": [
    "# Top 20 runs\n",
    "top20 = agg_df.sort_values('fbeta',ascending=False).head(20).reset_index()"
   ]
  },
  {
   "cell_type": "code",
   "execution_count": null,
   "metadata": {},
   "outputs": [],
   "source": [
    "# Copying the first 80 runs to the 200 runs folder\n",
    "# folder structure year2006_alpha0.7_lamda2.2_6802-6802\n",
    "\n",
    "command_string = \"cp -r \"\n",
    "\n",
    "for sample_name in top20[\"sample\"]:\n",
    "    command_string += f'year{top20.loc[top20[\"sample\"]==sample_name, \"start\"].values[0]}_alpha{top20.loc[top20[\"sample\"]==sample_name, \"alpha\"].values[0]}_lamda{top20.loc[top20[\"sample\"]==sample_name, \"lamda\"].values[0]}_6802-6802 '\n",
    "\n",
    "command_string += \"../slf_grid_top20\"\n",
    "\n",
    "print(command_string)"
   ]
  },
  {
   "cell_type": "code",
   "execution_count": null,
   "metadata": {},
   "outputs": [],
   "source": [
    "# COPYING 200 runs to 1000 runs folders\n",
    "\n",
    "# folder structure year2006_alpha0.7_lamda2.2_6802-6802\n",
    "command_string = \"\"\n",
    "\n",
    "for sample_name in top20[\"sample\"][0:5]:\n",
    "    command_string += f'cp -r slf_origin/outputs/slf_grid_top20/year{top20.loc[top20[\"sample\"]==sample_name, \"start\"].values[0]}_alpha{top20.loc[top20[\"sample\"]==sample_name, \"alpha\"].values[0]}_lamda{top20.loc[top20[\"sample\"]==sample_name, \"lamda\"].values[0]}_6802-6802/. slf_top5/outputs/slf_top5_1000/year{top20.loc[top20[\"sample\"]==sample_name, \"start\"].values[0]}_alpha{top20.loc[top20[\"sample\"]==sample_name, \"alpha\"].values[0]}_lamda{top20.loc[top20[\"sample\"]==sample_name, \"lamda\"].values[0]}_6802-6802/\\n'\n",
    "\n",
    "print(command_string)"
   ]
  },
  {
   "cell_type": "code",
   "execution_count": null,
   "metadata": {},
   "outputs": [],
   "source": [
    "# Commands - runs 80 to 200 \n",
    "start_run = 80 \n",
    "end_run = 200\n",
    "commands = \"\"\n",
    "\n",
    "script = \"python model_run_args.py\"\n",
    "\n",
    "for i in top20.index:\n",
    "    commands += (\n",
    "        \" \".join(\n",
    "            [\n",
    "                script,\n",
    "                str(top20['alpha'][i]),\n",
    "                str(top20['lamda'][i]),\n",
    "                str(top20['start'][i]),\n",
    "                str(start_run),\n",
    "                str(end_run),\n",
    "            ]\n",
    "        )\n",
    "        + \"\\n\"\n",
    "    )\n",
    "\n",
    "print(commands)"
   ]
  },
  {
   "cell_type": "code",
   "execution_count": null,
   "metadata": {},
   "outputs": [],
   "source": [
    "# 1000 commands in batches of 20\n",
    "\n",
    "commands = \"\"\n",
    "\n",
    "for i in list(range(0,5)):\n",
    "    start_run = 201 \n",
    "    end_run = start_run + 20\n",
    "\n",
    "    script = \"python model_run_args.py\"\n",
    "    \n",
    "    for j in list(range(0,40)):\n",
    "        commands += (\n",
    "            \" \".join(\n",
    "                [\n",
    "                    script,\n",
    "                    str(top20['alpha'][i]),\n",
    "                    str(top20['lamda'][i]),\n",
    "                    str(top20['start'][i]),\n",
    "                    str(start_run),\n",
    "                    str(end_run),\n",
    "                ]\n",
    "            )\n",
    "            + \"\\n\"\n",
    "        )\n",
    "        start_run = end_run+1\n",
    "        end_run += 20\n",
    "\n",
    "print(commands)\n"
   ]
  }
 ],
 "metadata": {
  "interpreter": {
   "hash": "948a6e006881c847639198d4e28507cd0955feff6e008072919ba7456f12f8bf"
  },
  "kernelspec": {
   "display_name": "Python 3.8.11 64-bit ('Pandemic': conda)",
   "language": "python",
   "name": "python3"
  },
  "language_info": {
   "codemirror_mode": {
    "name": "ipython",
    "version": 3
   },
   "file_extension": ".py",
   "mimetype": "text/x-python",
   "name": "python",
   "nbconvert_exporter": "python",
   "pygments_lexer": "ipython3",
   "version": "3.8.11"
  },
  "orig_nbformat": 4
 },
 "nbformat": 4,
 "nbformat_minor": 2
}
