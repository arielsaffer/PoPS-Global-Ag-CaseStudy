{
 "cells": [
  {
   "cell_type": "markdown",
   "metadata": {},
   "source": [
    "# Pandemic Network Model:\n",
    "## Predicting the spread of plant pests or pathogens using trade, environment, and pest ecology open data\n",
    "\n",
    "This notebook provides the workflow for running the Pandemic Network Model. To run this notebook, the following are assumed:\n",
    "- Cloned the Pandemic GitHub repository (git clone https://github.com/ncsu-landscape-dynamics/Pandemic_Model.git)\n",
    "- Notebook launched from the notebook folder of the cloned repo\n",
    "- Already have the required data downloaded and formatted (see data_aqucisition_format notebook)"
   ]
  },
  {
   "cell_type": "markdown",
   "metadata": {},
   "source": [
    "## Imports"
   ]
  },
  {
   "cell_type": "code",
   "execution_count": 1,
   "metadata": {},
   "outputs": [],
   "source": [
    "import os\n",
    "import sys\n",
    "import json\n",
    "import math\n",
    "import numpy as np\n",
    "import pandas as pd\n",
    "import geopandas\n",
    "from dotenv import load_dotenv"
   ]
  },
  {
   "cell_type": "code",
   "execution_count": 2,
   "metadata": {},
   "outputs": [
    {
     "name": "stdout",
     "output_type": "stream",
     "text": [
      "C:\\Users\\cawalden\\Documents\\GitHub\\Pandemic_Model\n"
     ]
    }
   ],
   "source": [
    "os.chdir('../')\n",
    "print(os.getcwd())"
   ]
  },
  {
   "cell_type": "code",
   "execution_count": 3,
   "metadata": {},
   "outputs": [],
   "source": [
    "from pandemic.helpers import create_trades_list\n",
    "from pandemic.model_equations import (\n",
    "    pandemic_multiple_time_steps,\n",
    ")\n",
    "from pandemic.output_files import (\n",
    "    create_model_dirs,\n",
    "    save_model_output,\n",
    "    aggregate_monthly_output_to_annual,\n",
    "    write_model_metadata,\n",
    ")"
   ]
  },
  {
   "cell_type": "markdown",
   "metadata": {},
   "source": [
    "## Set Paths and Environment Variables"
   ]
  },
  {
   "cell_type": "code",
   "execution_count": 4,
   "metadata": {},
   "outputs": [],
   "source": [
    "# Path to folder containing .env file\n",
    "# e.g., 'H:/Shared drives/APHIS  Projects/Pandemic/Data'\n",
    "env_file_path = \"C:/Users/cawalden/Documents/Projects/Pandemic\" # str(input())"
   ]
  },
  {
   "cell_type": "code",
   "execution_count": 5,
   "metadata": {},
   "outputs": [
    {
     "data": {
      "text/plain": [
       "True"
      ]
     },
     "execution_count": 5,
     "metadata": {},
     "output_type": "execute_result"
    }
   ],
   "source": [
    "load_dotenv(os.path.join(env_file_path, '.env'))"
   ]
  },
  {
   "cell_type": "code",
   "execution_count": 6,
   "metadata": {},
   "outputs": [
    {
     "name": "stdout",
     "output_type": "stream",
     "text": [
      "H:/Shared drives/Pandemic Data/slf_model/inputs/countries_slf_hiiMask16_wTWN.gpkg\n"
     ]
    }
   ],
   "source": [
    "# Read environmental variables\n",
    "data_dir = os.getenv('DATA_PATH')\n",
    "input_dir = os.getenv('INPUT_PATH')\n",
    "out_dir = os.getenv('OUTPUT_PATH')\n",
    "countries_path = os.getenv('COUNTRIES_PATH')\n",
    "\n",
    "print(countries_path)"
   ]
  },
  {
   "cell_type": "markdown",
   "metadata": {},
   "source": [
    "## Set Model Parameters\n",
    "Model arguments can be set with a configuration file, created in the\n",
    "create_model_config notebook, or by entering in the values below"
   ]
  },
  {
   "cell_type": "markdown",
   "metadata": {},
   "source": [
    "### With Configuration File"
   ]
  },
  {
   "cell_type": "code",
   "execution_count": 7,
   "metadata": {},
   "outputs": [],
   "source": [
    "# Path to model configuration file\n",
    "# e.g. input_dir + '/config_files/slf_gamma4-1_6801-6804_v2/config.json'\n",
    "# path_to_config_json = str(input())"
   ]
  },
  {
   "cell_type": "code",
   "execution_count": 8,
   "metadata": {},
   "outputs": [],
   "source": [
    "# Read model arguments from configuration file\n",
    "# with open(path_to_config_json) as json_file:\n",
    "#     config = json.load(json_file)\n",
    "\n",
    "# Columns to drop from model output dataframe \n",
    "# cols_to_drop = config[\"columns_to_drop\"]\n",
    "\n",
    "# commodity_path = config[\"commodity_path\"]\n",
    "# commodity_forecast_path = config[\"commodity_forecast_path\"]\n",
    "# native_countries_list = config[\"native_countries_list\"]\n",
    "# season_dict = config[\"season_dict\"]\n",
    "# alpha = config[\"alpha\"]\n",
    "# beta = config[\"beta\"]\n",
    "# mu = config[\"mu\"]\n",
    "# lamda_c_list = config[\"lamda_c_list\"]\n",
    "# phi = config[\"phi\"]\n",
    "# w_phi = config[\"w_phi\"]\n",
    "# start_year = config[\"start_year\"]\n",
    "# stop_year = config[\"stop_year\"]\n",
    "# random_seed = config[\"random_seed\"]\n",
    "# cols_to_drop = config[\"columns_to_drop\"]\n",
    "# time_infect_units = config[\"transmission_lag_unit\"]\n",
    "# transmission_lag_type = config[\"transmission_lag_type\"]\n",
    "# time_infect = config[\"time_to_infectivity\"]\n",
    "# gamma_shape = config[\"transmission_lag_shape\"]\n",
    "# gamma_scale = config[\"transmission_lag_scale\"]\n",
    "# save_entry = config['save_entry']\n",
    "# save_estab = config['save_estab']\n",
    "# save_intro = config[\"save_intro\"]\n",
    "# save_country_intros = config[\"save_country_intros\"]"
   ]
  },
  {
   "cell_type": "markdown",
   "metadata": {},
   "source": [
    "### In Current Session"
   ]
  },
  {
   "cell_type": "code",
   "execution_count": 9,
   "metadata": {},
   "outputs": [],
   "source": [
    "# commodity_path = f\"{input_dir}/monthly_agg/6801-6804\"\n",
    "commodity_path = f\"{input_dir}/comtrade_wTWN/monthly_agg/6801-6804\"\n",
    "\n",
    "# Forecast path can be set to None to exclude forecast from model run\n",
    "commodity_forecast_path = f\"{input_dir}/comtrade_wTWN/trade_forecast/monthly_agg/6801-6804\"\n",
    "\n",
    "# List of countries where pest is present at time T0\n",
    "native_countries_list = [\n",
    "        \"China\",\n",
    "        #\"Viet Nam\",\n",
    "        #\"India\"\n",
    "    ]\n",
    "\n",
    "# List of months when pest can be transported\n",
    "season_dict = {\n",
    "        \"NH_season\": [\n",
    "            \"09\",\n",
    "            \"10\",\n",
    "            \"11\",\n",
    "            \"12\",\n",
    "            \"01\",\n",
    "            \"02\",\n",
    "            \"03\",\n",
    "            \"04\"\n",
    "        ],\n",
    "        \"SH_season\": [\n",
    "            \"04\",\n",
    "            \"05\",\n",
    "            \"06\",\n",
    "            \"07\",\n",
    "            \"08\",\n",
    "            \"09\",\n",
    "            \"10\"\n",
    "        ]\n",
    "    }\n",
    "\n",
    "# scenario_list = []\n",
    "\n",
    "# for i in range(2010, 2030):\n",
    "#     start_scenario = [2010, 'CHN', 'USA', 'decrease', 1]\n",
    "#     new_scenario = start_scenario\n",
    "#     new_scenario[0] = i\n",
    "#     scenario_list .append(new_scenario)\n",
    "    \n",
    "# for i in range(2014, 2030):\n",
    "#     start_scenario = [2014, 'JPN', 'USA', 'decrease', 0.8]\n",
    "#     new_scenario = start_scenario\n",
    "#     new_scenario[0] = i\n",
    "#     scenario_list .append(new_scenario)\n",
    "    \n",
    "# for i in range(2014, 2030):\n",
    "#     start_scenario = [2014, 'KOR', 'USA', 'decrease', 0.8]\n",
    "#     new_scenario = start_scenario\n",
    "#     new_scenario[0] = i\n",
    "#     scenario_list .append(new_scenario)\n",
    "    \n",
    "# for i in range(2020, 2030):\n",
    "#     start_scenario = [2020, 'ITA', 'USA', 'decrease', 0.8]\n",
    "#     new_scenario = start_scenario\n",
    "#     new_scenario[0] = i\n",
    "#     scenario_list .append(new_scenario)\n",
    "    \n",
    "# for i in range(2020, 2030):\n",
    "#     start_scenario = [2020, 'TUR', 'USA', 'decrease', 0.8]\n",
    "#     new_scenario = start_scenario\n",
    "#     new_scenario[0] = i\n",
    "#     scenario_list .append(new_scenario)"
   ]
  },
  {
   "cell_type": "code",
   "execution_count": 10,
   "metadata": {},
   "outputs": [],
   "source": [
    "alpha = 0.04\n",
    "beta = 0.5\n",
    "mu = 0\n",
    "lamda_c_list = [3]\n",
    "phi = 1\n",
    "w_phi = 1\n",
    "start_year = 2006\n",
    "stop_year = 2016\n",
    "random_seed = None\n",
    "\n",
    "# Transmission lag type to include (e.g., None, static, stochastic)\n",
    "transmission_lag_type = \"stochastic\" \n",
    "\n",
    "# If transmission lag type is static, set time_infect as number of \n",
    "# years to delay country from becoming an origin. If lag type is\n",
    "# none or stochastic, set to None\n",
    "time_infect = None \n",
    "time_infect_units = \"year\"\n",
    "\n",
    "# If transmission lag type is stochastic, set values to generate\n",
    "# a gamma distribution. If lag type is none or static, ste to None. \n",
    "gamma_shape = 4\n",
    "gamma_scale = 1"
   ]
  },
  {
   "cell_type": "code",
   "execution_count": 11,
   "metadata": {},
   "outputs": [],
   "source": [
    "# Save n x n matrices for each time step where n is the number of countries, \n",
    "# and values represent the origin-destination probability of entry or \n",
    "# probability of establishment \n",
    "save_entry = False\n",
    "save_estab = False\n",
    "save_intro = False\n",
    "save_country_intros = False"
   ]
  },
  {
   "cell_type": "markdown",
   "metadata": {},
   "source": [
    "## Load Model Input Data"
   ]
  },
  {
   "cell_type": "code",
   "execution_count": 12,
   "metadata": {},
   "outputs": [],
   "source": [
    "# Read formatted countries geopackage, distance matrix, and climate similarities matrix\n",
    "countries = geopandas.read_file(countries_path, driver=\"GPKG\")\n",
    "distances = np.load(input_dir + '/distance_matrix_wTWN.npy')\n",
    "climate_similarities = np.load(input_dir + '/climate_similarities_hiiMask16_wTWN.npy')"
   ]
  },
  {
   "cell_type": "code",
   "execution_count": 13,
   "metadata": {},
   "outputs": [
    {
     "name": "stdout",
     "output_type": "stream",
     "text": [
      "Loading and formatting trade data...\n",
      "\t ['H:/Shared drives/Pandemic Data/slf_model/inputs//comtrade_wTWN/monthly_agg\\\\6801-6804']\n"
     ]
    }
   ],
   "source": [
    "# Read & format trade data\n",
    "trades_list, file_list_filtered, code_list, commodities_available = create_trades_list(\n",
    "    commodity_path=commodity_path,\n",
    "    commodity_forecast_path=commodity_forecast_path,\n",
    "    start_year=start_year,\n",
    "    stop_year=stop_year,\n",
    "    distances=distances,\n",
    ")"
   ]
  },
  {
   "cell_type": "code",
   "execution_count": 14,
   "metadata": {},
   "outputs": [],
   "source": [
    "# Create list of unique dates from trade data\n",
    "date_list = []\n",
    "for f in file_list_filtered:\n",
    "    fn = os.path.split(f)[1]\n",
    "    ts = str.split(os.path.splitext(fn)[0], \"_\")[-1]\n",
    "    date_list.append(ts)\n",
    "date_list.sort()\n",
    "end_sim_year = date_list[-1][:4]"
   ]
  },
  {
   "cell_type": "code",
   "execution_count": 15,
   "metadata": {},
   "outputs": [],
   "source": [
    "# Example trade array for formatting outputs\n",
    "traded = pd.read_csv(\n",
    "    file_list_filtered[0], sep=\",\", header=0, index_col=0, encoding=\"latin1\"\n",
    ")"
   ]
  },
  {
   "cell_type": "code",
   "execution_count": 16,
   "metadata": {},
   "outputs": [
    {
     "name": "stdout",
     "output_type": "stream",
     "text": [
      "Length of trades list:  1\n",
      "\tcommodity array shape:  (132, 234, 234)\n"
     ]
    }
   ],
   "source": [
    "# Checking trade array shapes\n",
    "print(\"Length of trades list: \", len(trades_list))\n",
    "for i in range(len(trades_list)):\n",
    "    print(\"\\tcommodity array shape: \", trades_list[i].shape)"
   ]
  },
  {
   "cell_type": "markdown",
   "metadata": {},
   "source": [
    "## Run Model for Selected Time Steps and Commodities"
   ]
  },
  {
   "cell_type": "code",
   "execution_count": 17,
   "metadata": {},
   "outputs": [],
   "source": [
    "# Name model results: simultation name, additional description (i.e., parameter value\n",
    "# or scenario tested), and run number to identify stochastic run. \n",
    "sim_name = f'slf_test'\n",
    "add_descript = 'dynamic_trade_scenario'\n",
    "\n",
    "# First run should be run_num = 0\n",
    "run_num = 0"
   ]
  },
  {
   "cell_type": "code",
   "execution_count": 18,
   "metadata": {
    "tags": []
   },
   "outputs": [
    {
     "name": "stdout",
     "output_type": "stream",
     "text": [
      "Number of commodities:  1\n",
      "Number of time steps:  132\n",
      "\n",
      "Running model for commodity:  6801-6804\n",
      "TIME STEP:  200601\n",
      "TIME STEP:  200602\n",
      "TIME STEP:  200603\n",
      "TIME STEP:  200604\n",
      "TIME STEP:  200605\n",
      "TIME STEP:  200606\n",
      "TIME STEP:  200607\n",
      "TIME STEP:  200608\n",
      "TIME STEP:  200609\n",
      "\t\t China --> Netherlands\n",
      "\t\t\tfirst intro...\n",
      "\t\t\ttime to infectious:  3\n",
      "\t\t\t\tNetherlands infective:  200909\n",
      "TIME STEP:  200610\n",
      "TIME STEP:  200611\n",
      "TIME STEP:  200612\n",
      "TIME STEP:  200701\n",
      "\t\t China --> Korea, Republic of\n",
      "\t\t\tfirst intro...\n",
      "\t\t\ttime to infectious:  4\n",
      "\t\t\t\tKorea, Republic of infective:  201101\n",
      "TIME STEP:  200702\n",
      "TIME STEP:  200703\n",
      "TIME STEP:  200704\n",
      "TIME STEP:  200705\n",
      "TIME STEP:  200706\n",
      "TIME STEP:  200707\n",
      "TIME STEP:  200708\n",
      "TIME STEP:  200709\n",
      "TIME STEP:  200710\n",
      "TIME STEP:  200711\n",
      "TIME STEP:  200712\n",
      "TIME STEP:  200801\n",
      "TIME STEP:  200802\n",
      "TIME STEP:  200803\n",
      "TIME STEP:  200804\n",
      "TIME STEP:  200805\n",
      "TIME STEP:  200806\n",
      "TIME STEP:  200807\n",
      "TIME STEP:  200808\n",
      "TIME STEP:  200809\n",
      "TIME STEP:  200810\n",
      "TIME STEP:  200811\n",
      "TIME STEP:  200812\n",
      "TIME STEP:  200901\n",
      "TIME STEP:  200902\n",
      "TIME STEP:  200903\n",
      "TIME STEP:  200904\n",
      "TIME STEP:  200905\n",
      "TIME STEP:  200906\n",
      "TIME STEP:  200907\n",
      "TIME STEP:  200908\n",
      "TIME STEP:  200909\n",
      "TIME STEP:  200910\n",
      "TIME STEP:  200911\n",
      "TIME STEP:  200912\n",
      "TIME STEP:  201001\n",
      "TIME STEP:  201002\n",
      "TIME STEP:  201003\n",
      "TIME STEP:  201004\n",
      "\t\t China --> Slovenia\n",
      "\t\t\tfirst intro...\n",
      "\t\t\ttime to infectious:  1\n",
      "\t\t\t\tSlovenia infective:  201104\n",
      "TIME STEP:  201005\n",
      "TIME STEP:  201006\n",
      "TIME STEP:  201007\n",
      "TIME STEP:  201008\n",
      "TIME STEP:  201009\n",
      "TIME STEP:  201010\n",
      "TIME STEP:  201011\n",
      "TIME STEP:  201012\n",
      "TIME STEP:  201101\n",
      "TIME STEP:  201102\n",
      "TIME STEP:  201103\n",
      "TIME STEP:  201104\n",
      "TIME STEP:  201105\n",
      "TIME STEP:  201106\n",
      "TIME STEP:  201107\n",
      "TIME STEP:  201108\n",
      "TIME STEP:  201109\n",
      "TIME STEP:  201110\n",
      "TIME STEP:  201111\n",
      "TIME STEP:  201112\n",
      "TIME STEP:  201201\n",
      "TIME STEP:  201202\n",
      "TIME STEP:  201203\n",
      "TIME STEP:  201204\n",
      "TIME STEP:  201205\n",
      "TIME STEP:  201206\n",
      "TIME STEP:  201207\n",
      "TIME STEP:  201208\n",
      "TIME STEP:  201209\n",
      "\t\t China --> Korea, Republic of\n",
      "\t\t\treintroduction....\n",
      "\t\t\tlatest time to infectious:  4\n",
      "\t\t\t\torig: 201101 \t new: 201609\n",
      "\t\t\t\tkeeping:  201101\n",
      "TIME STEP:  201210\n",
      "TIME STEP:  201211\n",
      "TIME STEP:  201212\n",
      "TIME STEP:  201301\n",
      "TIME STEP:  201302\n",
      "TIME STEP:  201303\n",
      "TIME STEP:  201304\n",
      "TIME STEP:  201305\n",
      "TIME STEP:  201306\n",
      "TIME STEP:  201307\n",
      "TIME STEP:  201308\n",
      "TIME STEP:  201309\n",
      "TIME STEP:  201310\n",
      "\t\t China --> Belgium\n",
      "\t\t\tfirst intro...\n",
      "\t\t\ttime to infectious:  5\n",
      "\t\t\t\tBelgium infective:  201810\n",
      "TIME STEP:  201311\n",
      "TIME STEP:  201312\n",
      "TIME STEP:  201401\n",
      "TIME STEP:  201402\n",
      "TIME STEP:  201403\n",
      "TIME STEP:  201404\n",
      "TIME STEP:  201405\n",
      "TIME STEP:  201406\n",
      "TIME STEP:  201407\n",
      "TIME STEP:  201408\n",
      "TIME STEP:  201409\n",
      "TIME STEP:  201410\n",
      "TIME STEP:  201411\n",
      "TIME STEP:  201412\n",
      "TIME STEP:  201501\n",
      "TIME STEP:  201502\n",
      "TIME STEP:  201503\n",
      "TIME STEP:  201504\n",
      "TIME STEP:  201505\n",
      "TIME STEP:  201506\n",
      "TIME STEP:  201507\n",
      "TIME STEP:  201508\n",
      "TIME STEP:  201509\n",
      "TIME STEP:  201510\n",
      "TIME STEP:  201511\n",
      "TIME STEP:  201512\n",
      "TIME STEP:  201601\n",
      "TIME STEP:  201602\n",
      "TIME STEP:  201603\n",
      "TIME STEP:  201604\n",
      "TIME STEP:  201605\n",
      "TIME STEP:  201606\n",
      "TIME STEP:  201607\n",
      "TIME STEP:  201608\n",
      "TIME STEP:  201609\n",
      "TIME STEP:  201610\n",
      "TIME STEP:  201611\n",
      "TIME STEP:  201612\n",
      "saving model outputs:  H:/Shared drives/Pandemic Data/slf_model/outputs//slf_test/slf_test_dynamic_trade_scenario_6801-6804/run_0/\n",
      "aggregating monthly predictions to annual time steps...\n",
      "writing model metadata...\n"
     ]
    }
   ],
   "source": [
    "print(\"Number of commodities: \", len([c for c in lamda_c_list if c > 0]))\n",
    "print(\"Number of time steps: \", trades_list[0].shape[0])\n",
    "for i in range(len(trades_list)):\n",
    "    if len(trades_list) > 1:\n",
    "        code = code_list[i]\n",
    "        print(\"\\nRunning model for commodity: \", code)\n",
    "    else:\n",
    "        code = code_list[0]\n",
    "        print(\n",
    "            \"\\nRunning model for commodity: \",\n",
    "            os.path.basename(commodities_available[0]),\n",
    "        )\n",
    "    trades = trades_list[i]\n",
    "    distances = distances\n",
    "    locations = countries\n",
    "    prob = np.zeros(len(countries.index))\n",
    "    pres_ts0 = [False] * len(prob)\n",
    "    infect_ts0 = np.empty(locations.shape[0], dtype=\"object\")\n",
    "    for country in native_countries_list:\n",
    "        country_index = countries.index[countries[\"NAME\"] == country][0]\n",
    "        pres_ts0[country_index] = True\n",
    "        # if time steps are monthly and time to infectivity is in years\n",
    "        if len(date_list[0]) > 4:\n",
    "            infect_ts0[country_index] = str(start_year) + \"01\"\n",
    "        # else if time steps are annual and time to infectivity is in years\n",
    "        else:\n",
    "            infect_ts0[country_index] = str(start_year)\n",
    "    locations[\"Presence\"] = pres_ts0\n",
    "    locations[\"Infective\"] = infect_ts0\n",
    "\n",
    "    iu1 = np.triu_indices(climate_similarities.shape[0], 1)\n",
    "    \n",
    "    # revised equation values\n",
    "    sigma_h = (1 - countries[\"Host Percent Area\"]).std()\n",
    "    sigma_kappa = np.std(1 - climate_similarities[iu1])\n",
    "    \n",
    "    \n",
    "    np.random.seed(random_seed)\n",
    "    lamda_c = lamda_c_list[i]\n",
    "\n",
    "    if lamda_c > 0:\n",
    "        e = pandemic_multiple_time_steps(\n",
    "            trades=trades,\n",
    "            distances=distances,\n",
    "            locations=locations,\n",
    "            climate_similarities=climate_similarities,\n",
    "            alpha=alpha,\n",
    "            beta=beta,\n",
    "            mu=mu,\n",
    "            lamda_c=lamda_c,\n",
    "            phi=phi,\n",
    "            sigma_h=sigma_h,\n",
    "            sigma_kappa=sigma_kappa,\n",
    "            w_phi=w_phi,\n",
    "            start_year=start_year,\n",
    "            date_list=date_list,\n",
    "            season_dict=season_dict,\n",
    "            transmission_lag_type=transmission_lag_type,\n",
    "            time_infect_units=time_infect_units,\n",
    "            time_infect=time_infect,\n",
    "            gamma_shape=gamma_shape,\n",
    "            gamma_scale=gamma_scale,\n",
    "            # scenario_list=scenario_list\n",
    "        )\n",
    "\n",
    "\n",
    "        run_prefix = f\"{sim_name}_{add_descript}_{code}\"\n",
    "\n",
    "        arr_dict = {\n",
    "            \"prob_entry\": \"probability_of_entry\",\n",
    "            \"prob_intro\": \"probability_of_introduction\",\n",
    "            \"prob_est\": \"probability_of_establishment\",\n",
    "            \"country_introduction\": \"country_introduction\",\n",
    "        }\n",
    "\n",
    "        outpath = out_dir + f\"/{sim_name}/{run_prefix}/run_{run_num}/\"\n",
    "        create_model_dirs(\n",
    "            outpath=outpath,\n",
    "            output_dict=arr_dict,\n",
    "            write_entry_probs=save_entry, \n",
    "            write_estab_probs=save_estab,\n",
    "            write_intro_probs=save_intro,\n",
    "            write_country_intros=save_country_intros,\n",
    "        )\n",
    "        print(\"saving model outputs: \", outpath)\n",
    "        full_out_df = save_model_output(\n",
    "            model_output_object=e,\n",
    "            example_trade_matrix=traded,\n",
    "            outpath=outpath,\n",
    "            date_list=date_list,\n",
    "            write_entry_probs=save_entry,\n",
    "            write_estab_probs=save_estab,\n",
    "            write_intro_probs=save_intro,\n",
    "            write_country_intros=save_country_intros,\n",
    "            columns_to_drop=None\n",
    "        )\n",
    "\n",
    "        # If time steps are monthly, aggregate predictions to\n",
    "        # annual for dashboard display\n",
    "        if len(date_list[i]) > 4:\n",
    "            print(\"aggregating monthly predictions to annual time steps...\")\n",
    "            aggregate_monthly_output_to_annual(\n",
    "                formatted_geojson=full_out_df, outpath=outpath\n",
    "            )\n",
    "\n",
    "        # Save model metadata to text file\n",
    "        print(\"writing model metadata...\")\n",
    "        write_model_metadata(\n",
    "            main_model_output=e[0],\n",
    "            alpha=alpha,\n",
    "            beta=beta,\n",
    "            mu=mu,\n",
    "            lamda_c_list=lamda_c_list,\n",
    "            phi=phi,\n",
    "            sigma_h=sigma_h,\n",
    "            sigma_kappa=sigma_kappa,\n",
    "            w_phi=w_phi,\n",
    "            start_year=start_year,\n",
    "            end_sim_year=end_sim_year,\n",
    "            transmission_lag_type=transmission_lag_type,\n",
    "            time_infect_units=time_infect_units,\n",
    "            gamma_shape=gamma_shape,\n",
    "            gamma_scale=gamma_scale,\n",
    "            random_seed=random_seed,\n",
    "            time_infect=time_infect,\n",
    "            native_countries_list=native_countries_list,\n",
    "            countries_path=countries_path,\n",
    "            commodities_available=commodities_available[i], \n",
    "            commodity_forecast_path=commodity_forecast_path,\n",
    "            phyto_weights=list(locations['Phytosanitary Capacity'].unique()),\n",
    "            outpath=outpath, \n",
    "            run_num=run_num,\n",
    "        )\n",
    "\n",
    "    else:\n",
    "        print(\"\\tskipping as pest is not transported with this commodity\")"
   ]
  },
  {
   "cell_type": "code",
   "execution_count": null,
   "metadata": {},
   "outputs": [],
   "source": []
  }
 ],
 "metadata": {
  "kernelspec": {
   "display_name": "py37_geo",
   "language": "python",
   "name": "py37_geo"
  },
  "language_info": {
   "codemirror_mode": {
    "name": "ipython",
    "version": 3
   },
   "file_extension": ".py",
   "mimetype": "text/x-python",
   "name": "python",
   "nbconvert_exporter": "python",
   "pygments_lexer": "ipython3",
   "version": "3.7.9"
  }
 },
 "nbformat": 4,
 "nbformat_minor": 4
}
